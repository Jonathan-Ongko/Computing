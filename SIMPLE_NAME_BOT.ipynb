{
  "nbformat": 4,
  "nbformat_minor": 0,
  "metadata": {
    "colab": {
      "provenance": [],
      "authorship_tag": "ABX9TyOQn5JV7cSmaE09znTi21Uv",
      "include_colab_link": true
    },
    "kernelspec": {
      "name": "python3",
      "display_name": "Python 3"
    },
    "language_info": {
      "name": "python"
    }
  },
  "cells": [
    {
      "cell_type": "markdown",
      "metadata": {
        "id": "view-in-github",
        "colab_type": "text"
      },
      "source": [
        "<a href=\"https://colab.research.google.com/github/Jonathan-Ongko/Computing/blob/main/SIMPLE_NAME_BOT.ipynb\" target=\"_parent\"><img src=\"https://colab.research.google.com/assets/colab-badge.svg\" alt=\"Open In Colab\"/></a>"
      ]
    },
    {
      "cell_type": "code",
      "execution_count": 5,
      "metadata": {
        "colab": {
          "base_uri": "https://localhost:8080/"
        },
        "id": "UaG3GGzf6fd6",
        "outputId": "43b41be0-99b3-42e6-d0e1-d78e856407ec"
      },
      "outputs": [
        {
          "output_type": "stream",
          "name": "stdout",
          "text": [
            "hello 8c\n",
            "8.5\n"
          ]
        }
      ],
      "source": [
        "# Data types\n",
        "# str = string = to write/keep text\n",
        "print (\"hello 8c\")\n",
        "# numeric types: integer (int), float (for decimals)\n",
        "print (\"8.5\")"
      ]
    },
    {
      "cell_type": "code",
      "source": [
        "# math operator + - / % * addition, substraction, division, and multiplication\n",
        "print (\"8C+7C\")"
      ],
      "metadata": {
        "id": "8HBZPYmO9XmA"
      },
      "execution_count": 6,
      "outputs": []
    },
    {
      "cell_type": "code",
      "source": [
        "# VARIABLE + NAMING\n",
        "# in python + case sensitive\n",
        "# ways on write variable = u're not allowed to start with number\n",
        "# not put space between\n",
        "#8c = 20 ---> wrong\n",
        "# eight c = 20  ---> wrong\n",
        "fried_fish = 100\n",
        "fried_fish = 99\n",
        "fried_fish\n"
      ],
      "metadata": {
        "id": "XMnvJ2ps_SNX"
      },
      "execution_count": 8,
      "outputs": []
    },
    {
      "cell_type": "code",
      "source": [
        "# input = determined the data type\n",
        "name = input (\"please type ypur name\")\n",
        "print (\"name?\")"
      ],
      "metadata": {
        "id": "sRPUsIw6A0BZ"
      },
      "execution_count": null,
      "outputs": []
    },
    {
      "cell_type": "code",
      "source": [
        "name = input (\"type ur name here\")\n",
        "age = input (\"type ur age here\")\n",
        "print (\"hi\", name, \"you are ,\", age,\" years old\")"
      ],
      "metadata": {
        "id": "PZynY6zHB87H"
      },
      "execution_count": null,
      "outputs": []
    },
    {
      "cell_type": "code",
      "source": [],
      "metadata": {
        "id": "uAK0NcVdAHwG"
      },
      "execution_count": null,
      "outputs": []
    }
  ]
}